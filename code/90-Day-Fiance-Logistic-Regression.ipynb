{
 "cells": [
  {
   "cell_type": "markdown",
   "id": "40c14121",
   "metadata": {},
   "source": [
    "# 90 Day Fiance - Logistic Regression\n",
    "\n",
    "*for binary classification problems*\n",
    "\n",
    "https://www.geeksforgeeks.org/logistic-regression-using-statsmodels/\n",
    "\n",
    "https://levelup.gitconnected.com/an-introduction-to-logistic-regression-in-python-with-statsmodels-and-scikit-learn-1a1fb5ce1c13"
   ]
  },
  {
   "cell_type": "code",
   "execution_count": 14,
   "id": "8a8255f0",
   "metadata": {},
   "outputs": [],
   "source": [
    "# import libraries\n",
    "\n",
    "import pandas as pd\n",
    "import statsmodels.api as sm\n",
    "from sklearn.metrics import (confusion_matrix, accuracy_score)\n",
    "\n",
    "from sklearn.linear_model import LogisticRegression\n",
    "from sklearn.metrics import log_loss\n",
    "from sklearn.metrics import confusion_matrix\n",
    "import numpy as np\n",
    "import matplotlib.pyplot as plt"
   ]
  },
  {
   "cell_type": "code",
   "execution_count": 35,
   "id": "d8c6c47d",
   "metadata": {},
   "outputs": [],
   "source": [
    "# read in Fiance CSV\n",
    "\n",
    "fiances = pd.read_csv(\"data/90-Day-Fiance-regression.csv\")"
   ]
  },
  {
   "cell_type": "code",
   "execution_count": 36,
   "id": "1e87a773",
   "metadata": {},
   "outputs": [
    {
     "data": {
      "text/html": [
       "<div>\n",
       "<style scoped>\n",
       "    .dataframe tbody tr th:only-of-type {\n",
       "        vertical-align: middle;\n",
       "    }\n",
       "\n",
       "    .dataframe tbody tr th {\n",
       "        vertical-align: top;\n",
       "    }\n",
       "\n",
       "    .dataframe thead th {\n",
       "        text-align: right;\n",
       "    }\n",
       "</style>\n",
       "<table border=\"1\" class=\"dataframe\">\n",
       "  <thead>\n",
       "    <tr style=\"text-align: right;\">\n",
       "      <th></th>\n",
       "      <th>usSex</th>\n",
       "      <th>usAgeRange</th>\n",
       "      <th>usRegion</th>\n",
       "      <th>foreignSex</th>\n",
       "      <th>foreignAgeRange</th>\n",
       "      <th>olderSex</th>\n",
       "      <th>olderNat</th>\n",
       "      <th>ageDiffRange</th>\n",
       "      <th>continent</th>\n",
       "      <th>met</th>\n",
       "      <th>stayTogether</th>\n",
       "    </tr>\n",
       "  </thead>\n",
       "  <tbody>\n",
       "    <tr>\n",
       "      <th>0</th>\n",
       "      <td>0</td>\n",
       "      <td>1</td>\n",
       "      <td>2</td>\n",
       "      <td>1</td>\n",
       "      <td>1</td>\n",
       "      <td>0</td>\n",
       "      <td>0</td>\n",
       "      <td>1</td>\n",
       "      <td>1</td>\n",
       "      <td>1</td>\n",
       "      <td>1</td>\n",
       "    </tr>\n",
       "    <tr>\n",
       "      <th>1</th>\n",
       "      <td>0</td>\n",
       "      <td>1</td>\n",
       "      <td>0</td>\n",
       "      <td>1</td>\n",
       "      <td>1</td>\n",
       "      <td>0</td>\n",
       "      <td>0</td>\n",
       "      <td>2</td>\n",
       "      <td>1</td>\n",
       "      <td>2</td>\n",
       "      <td>1</td>\n",
       "    </tr>\n",
       "    <tr>\n",
       "      <th>2</th>\n",
       "      <td>0</td>\n",
       "      <td>2</td>\n",
       "      <td>1</td>\n",
       "      <td>1</td>\n",
       "      <td>2</td>\n",
       "      <td>0</td>\n",
       "      <td>0</td>\n",
       "      <td>1</td>\n",
       "      <td>4</td>\n",
       "      <td>0</td>\n",
       "      <td>1</td>\n",
       "    </tr>\n",
       "    <tr>\n",
       "      <th>3</th>\n",
       "      <td>0</td>\n",
       "      <td>2</td>\n",
       "      <td>1</td>\n",
       "      <td>1</td>\n",
       "      <td>1</td>\n",
       "      <td>0</td>\n",
       "      <td>0</td>\n",
       "      <td>2</td>\n",
       "      <td>2</td>\n",
       "      <td>0</td>\n",
       "      <td>1</td>\n",
       "    </tr>\n",
       "    <tr>\n",
       "      <th>4</th>\n",
       "      <td>1</td>\n",
       "      <td>1</td>\n",
       "      <td>1</td>\n",
       "      <td>0</td>\n",
       "      <td>1</td>\n",
       "      <td>0</td>\n",
       "      <td>1</td>\n",
       "      <td>1</td>\n",
       "      <td>0</td>\n",
       "      <td>1</td>\n",
       "      <td>0</td>\n",
       "    </tr>\n",
       "  </tbody>\n",
       "</table>\n",
       "</div>"
      ],
      "text/plain": [
       "   usSex  usAgeRange  usRegion  foreignSex  foreignAgeRange  olderSex  \\\n",
       "0      0           1         2           1                1         0   \n",
       "1      0           1         0           1                1         0   \n",
       "2      0           2         1           1                2         0   \n",
       "3      0           2         1           1                1         0   \n",
       "4      1           1         1           0                1         0   \n",
       "\n",
       "   olderNat  ageDiffRange  continent  met  stayTogether  \n",
       "0         0             1          1    1             1  \n",
       "1         0             2          1    2             1  \n",
       "2         0             1          4    0             1  \n",
       "3         0             2          2    0             1  \n",
       "4         1             1          0    1             0  "
      ]
     },
     "execution_count": 36,
     "metadata": {},
     "output_type": "execute_result"
    }
   ],
   "source": [
    "fiances.head()"
   ]
  },
  {
   "cell_type": "markdown",
   "id": "9a8c3565",
   "metadata": {},
   "source": [
    "### looking at...\n",
    "• gender of US fiancé\n",
    "\n",
    "• age range of US fiancé\n",
    "\n",
    "• which US region fiancé is from\n",
    "\n",
    "• which gender is older\n",
    "\n",
    "• which nationality is older\n",
    "\n",
    "• age difference range\n",
    "\n",
    "• which contient international fiancé is from\n",
    "\n",
    "• how couple met"
   ]
  },
  {
   "cell_type": "markdown",
   "id": "5b681a43",
   "metadata": {},
   "source": [
    "## Builiding the Logistic Regression Model\n",
    "\n",
    "**Statsmodels** is a Python module that provides various functions for estimating different statistical models and performing statistical tests  "
   ]
  },
  {
   "cell_type": "markdown",
   "id": "8e445f66",
   "metadata": {},
   "source": [
    "* define the **set of dependent(y) and independent(X) variables** (if the dependent variable is in non-numeric form, it is first converted to numeric using dummies)\n",
    "\n",
    "* statsmodels provides a **Logit() function** for performing logistic regression\n",
    "\n",
    "* the Logit() function accepts y and X as parameters and **returns the Logit object** \n",
    "\n",
    "* the model is then fitted to the data"
   ]
  },
  {
   "cell_type": "code",
   "execution_count": 37,
   "id": "195ef0e7",
   "metadata": {},
   "outputs": [
    {
     "data": {
      "text/plain": [
       "Index(['usSex', 'usAgeRange', 'usRegion', 'foreignSex', 'foreignAgeRange',\n",
       "       'olderSex', 'olderNat', 'ageDiffRange', 'continent', 'met',\n",
       "       'stayTogether'],\n",
       "      dtype='object')"
      ]
     },
     "execution_count": 37,
     "metadata": {},
     "output_type": "execute_result"
    }
   ],
   "source": [
    "fiances.columns"
   ]
  },
  {
   "cell_type": "code",
   "execution_count": 45,
   "id": "2773764a",
   "metadata": {},
   "outputs": [],
   "source": [
    "# defining the dependent and independent variables\n",
    "\n",
    "feature_names = ['usSex', 'usAgeRange', 'usRegion', 'foreignAgeRange', 'olderSex', 'olderNat', \n",
    "                 'ageDiffRange', 'continent', 'met', ]\n",
    "\n",
    "Xtrain = fiances[feature_names]\n",
    "ytrain = fiances['stayTogether']"
   ]
  },
  {
   "cell_type": "code",
   "execution_count": 40,
   "id": "308eb1a5",
   "metadata": {},
   "outputs": [
    {
     "name": "stdout",
     "output_type": "stream",
     "text": [
      "Optimization terminated successfully.\n",
      "         Current function value: 0.503725\n",
      "         Iterations 6\n"
     ]
    }
   ],
   "source": [
    "# building the model and fitting the data\n",
    "\n",
    "log_reg = sm.Logit(ytrain, Xtrain).fit()"
   ]
  },
  {
   "cell_type": "markdown",
   "id": "80a76583",
   "metadata": {},
   "source": [
    "**Output** \n",
    "\n",
    "* **Iterations** refer to the number of times the model iterates over the data, trying to optimize the model\n",
    "* *by default, the maximum number of iterations performed is 35, after which the optimization fails*"
   ]
  },
  {
   "cell_type": "code",
   "execution_count": 41,
   "id": "29cc6fe8",
   "metadata": {},
   "outputs": [
    {
     "name": "stdout",
     "output_type": "stream",
     "text": [
      "                           Logit Regression Results                           \n",
      "==============================================================================\n",
      "Dep. Variable:           stayTogether   No. Observations:                   58\n",
      "Model:                          Logit   Df Residuals:                       49\n",
      "Method:                           MLE   Df Model:                            8\n",
      "Date:                Mon, 02 May 2022   Pseudo R-squ.:                  0.2305\n",
      "Time:                        18:29:03   Log-Likelihood:                -29.216\n",
      "converged:                       True   LL-Null:                       -37.967\n",
      "Covariance Type:            nonrobust   LLR p-value:                   0.02529\n",
      "===================================================================================\n",
      "                      coef    std err          z      P>|z|      [0.025      0.975]\n",
      "-----------------------------------------------------------------------------------\n",
      "usSex              -1.2587      0.797     -1.580      0.114      -2.820       0.303\n",
      "usAgeRange          0.3289      0.634      0.519      0.604      -0.913       1.571\n",
      "usRegion            0.2543      0.308      0.827      0.408      -0.349       0.857\n",
      "foreignAgeRange     1.0915      0.607      1.800      0.072      -0.097       2.280\n",
      "olderSex            0.7807      0.696      1.123      0.262      -0.582       2.144\n",
      "olderNat           -1.8252      0.914     -1.996      0.046      -3.617      -0.033\n",
      "ageDiffRange       -1.0105      0.522     -1.934      0.053      -2.034       0.013\n",
      "continent           0.6269      0.278      2.257      0.024       0.083       1.171\n",
      "met                -0.4327      0.446     -0.970      0.332      -1.307       0.441\n",
      "===================================================================================\n"
     ]
    }
   ],
   "source": [
    "# print the summary table - descriptive summary about the regression results\n",
    "\n",
    "print(log_reg.summary())"
   ]
  },
  {
   "cell_type": "markdown",
   "id": "79ec9ef5",
   "metadata": {},
   "source": [
    "## Explanation of some of the terms in the summary table\n",
    "\n",
    "* **coef:** the coefficients of the independent variables in the regression equation\n",
    "* **Log-Likelihood:** the natural logarithm of the Maximum Likelihood Estimation(MLE) function. MLE is the optimization process of finding the set of parameters that result in the best fit\n",
    "* **LL-Null** the value of log-likelihood of the model when no independent variable is included(only an intercept is included)\n",
    "* **Pseudo R-squ.:** a substitute for the R-squared value in Least Squares linear regression. It is the ratio of the log-likelihood of the null model to that of the full model\n",
    "\n",
    "\n",
    "### Pseudo-R-squared\n",
    "\n",
    "* measure that provides information about the goodness of fit of a model - quantifies how well the regression line approximates the actual data\n",
    "\n",
    "* R-squared = 1 == all variation in the y values is accounted for the by the x values\n",
    "\n",
    "* **R-squared = 0.2647 == 26% of the variation in the y values is accounted for the by the x values**\n",
    "\n",
    "* R-squared = 0 == none of the variation in the y values is accounted for the by the x values\n",
    "\n",
    "\n",
    "### Model's Coefficients"
   ]
  },
  {
   "cell_type": "markdown",
   "id": "45b8bae6",
   "metadata": {},
   "source": [
    "## Predicting on New Data \n",
    "\n",
    "* test our model on new test data\n",
    "* **predict() function** is useful for performing predictions\n",
    "* predictions obtained are fractional values (between 0 and 1) - denote the probability of couples staying together "
   ]
  },
  {
   "cell_type": "code",
   "execution_count": 42,
   "id": "72687096",
   "metadata": {},
   "outputs": [],
   "source": [
    "# defining the dependent and independent variables\n",
    "Xtest = fiances[feature_names]\n",
    "ytest = fiances['stayTogether']\n",
    "\n",
    "# performing predictions on the test datdaset\n",
    "yhat = log_reg.predict(Xtest)\n",
    "prediction = list(map(round, yhat))"
   ]
  },
  {
   "cell_type": "code",
   "execution_count": 43,
   "id": "762d8546",
   "metadata": {},
   "outputs": [
    {
     "name": "stdout",
     "output_type": "stream",
     "text": [
      "Actual values [1, 1, 1, 1, 0, 0, 1, 1, 0, 1, 1, 1, 1, 1, 0, 1, 0, 0, 1, 1, 1, 1, 0, 0, 1, 1, 0, 0, 0, 1, 1, 1, 1, 1, 0, 0, 1, 1, 0, 1, 0, 1, 1, 1, 0, 1, 1, 0, 0, 1, 0, 0, 0, 1, 1, 1, 1, 1]\n",
      "Predictions : [1, 0, 1, 1, 0, 1, 1, 1, 0, 1, 1, 1, 1, 1, 0, 1, 1, 0, 1, 1, 1, 0, 0, 0, 1, 1, 0, 1, 0, 1, 1, 1, 0, 1, 1, 1, 1, 1, 1, 1, 1, 1, 1, 0, 0, 1, 1, 1, 0, 1, 0, 0, 1, 1, 1, 1, 0, 1]\n"
     ]
    }
   ],
   "source": [
    "# comparing original and predicted values of y\n",
    "print('Actual values', list(ytest.values))\n",
    "print('Predictions :', prediction)"
   ]
  },
  {
   "cell_type": "markdown",
   "id": "6d71a170",
   "metadata": {},
   "source": [
    "### Testing the accuracy of the model"
   ]
  },
  {
   "cell_type": "code",
   "execution_count": 44,
   "id": "cbb3782a",
   "metadata": {
    "scrolled": true
   },
   "outputs": [
    {
     "name": "stdout",
     "output_type": "stream",
     "text": [
      "Confusion Matrix : \n",
      " [[12  9]\n",
      " [ 5 32]]\n",
      "Test accuracy =  0.7586206896551724\n"
     ]
    }
   ],
   "source": [
    "# confusion matrix\n",
    "cm = confusion_matrix(ytest, prediction)\n",
    "print (\"Confusion Matrix : \\n\", cm)\n",
    "\n",
    "# accuracy score of the model\n",
    "print('Test accuracy = ', accuracy_score(ytest, prediction))"
   ]
  }
 ],
 "metadata": {
  "kernelspec": {
   "display_name": "geo_env",
   "language": "python",
   "name": "geo_env"
  },
  "language_info": {
   "codemirror_mode": {
    "name": "ipython",
    "version": 3
   },
   "file_extension": ".py",
   "mimetype": "text/x-python",
   "name": "python",
   "nbconvert_exporter": "python",
   "pygments_lexer": "ipython3",
   "version": "3.10.2"
  }
 },
 "nbformat": 4,
 "nbformat_minor": 5
}
