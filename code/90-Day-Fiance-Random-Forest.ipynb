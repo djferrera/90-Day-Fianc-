{
 "cells": [
  {
   "cell_type": "markdown",
   "id": "e04afc8c",
   "metadata": {},
   "source": [
    "# 90 Day Fiance - Random Forest\n",
    "\n",
    "https://stackabuse.com/random-forest-algorithm-with-python-and-scikit-learn/\n",
    "\n",
    "https://www.datacamp.com/community/tutorials/random-forests-classifier-python"
   ]
  },
  {
   "cell_type": "markdown",
   "id": "45f1ffed",
   "metadata": {},
   "source": [
    "* supervised machine learning algorithm based on ensemble learning\n",
    "* combines multiple decision trees"
   ]
  },
  {
   "cell_type": "markdown",
   "id": "4797b6d5",
   "metadata": {},
   "source": [
    "### how the random forest algorithm works (basic steps)\n",
    "\n",
    "* pick N random records from the dataset\n",
    "* build a decision tree based on these N records\n",
    "* choose the number of trees you want in your algorithm and repeat steps 1 and 2\n",
    "* classification problem: each tree in the forest predicts the category to which the new record belongs - finally, the new record is assigned to the category that wins the majority vote"
   ]
  },
  {
   "cell_type": "markdown",
   "id": "07fa23e0",
   "metadata": {},
   "source": [
    "### advantages of using random forest\n",
    "\n",
    "* not biased, since, there are multiple trees and each tree is trained on a subset of data\n",
    "* very stable - even if a new data point is introduced in the dataset the overall algorithm is not affected much since new data may impact one tree, but it is very hard for it to impact all the trees\n",
    "* works well when you have both categorical and numerical features\n",
    "* works well when data has missing values or it has not been scaled well"
   ]
  },
  {
   "cell_type": "markdown",
   "id": "59a67a01",
   "metadata": {},
   "source": [
    "### disadvantages of using random forest\n",
    "\n",
    "* complexity - required much more computational resources, owing to the large number of decision trees joined together\n",
    "* require much more time to train than other comparable algorithms"
   ]
  },
  {
   "cell_type": "markdown",
   "id": "e94f4b69",
   "metadata": {},
   "source": [
    "## using random forest for classification"
   ]
  },
  {
   "cell_type": "code",
   "execution_count": 73,
   "id": "aba9dfad",
   "metadata": {},
   "outputs": [],
   "source": [
    "# import libraries\n",
    "import pandas as pd\n",
    "import numpy as np\n",
    "import matplotlib.pyplot as plt\n",
    "import seaborn as sns\n",
    "\n",
    "# divide data into testing and training sets\n",
    "from sklearn.model_selection import train_test_split\n",
    "\n",
    "# feature scaling\n",
    "from sklearn.preprocessing import StandardScaler\n",
    "\n",
    "# random forest model\n",
    "from sklearn.ensemble import RandomForestClassifier\n",
    "\n",
    "# check model accuracy\n",
    "from sklearn import metrics\n",
    "\n",
    "# training the algorithm\n",
    "from sklearn.ensemble import RandomForestRegressor\n",
    "\n",
    "# evaluating the algorithm\n",
    "from sklearn.metrics import classification_report, confusion_matrix, accuracy_score"
   ]
  },
  {
   "cell_type": "code",
   "execution_count": 114,
   "id": "dbb7a53a",
   "metadata": {},
   "outputs": [],
   "source": [
    "# load 90 Day data\n",
    "fiances = pd.read_csv(\"data/90-Day-Fiance-regression.csv\")"
   ]
  },
  {
   "cell_type": "code",
   "execution_count": 115,
   "id": "85cc8c35",
   "metadata": {
    "scrolled": true
   },
   "outputs": [
    {
     "data": {
      "text/html": [
       "<div>\n",
       "<style scoped>\n",
       "    .dataframe tbody tr th:only-of-type {\n",
       "        vertical-align: middle;\n",
       "    }\n",
       "\n",
       "    .dataframe tbody tr th {\n",
       "        vertical-align: top;\n",
       "    }\n",
       "\n",
       "    .dataframe thead th {\n",
       "        text-align: right;\n",
       "    }\n",
       "</style>\n",
       "<table border=\"1\" class=\"dataframe\">\n",
       "  <thead>\n",
       "    <tr style=\"text-align: right;\">\n",
       "      <th></th>\n",
       "      <th>usSex</th>\n",
       "      <th>usAgeRange</th>\n",
       "      <th>usRegion</th>\n",
       "      <th>foreignSex</th>\n",
       "      <th>foreignAgeRange</th>\n",
       "      <th>olderSex</th>\n",
       "      <th>olderNat</th>\n",
       "      <th>ageDiffRange</th>\n",
       "      <th>continent</th>\n",
       "      <th>met</th>\n",
       "      <th>stayTogether</th>\n",
       "    </tr>\n",
       "  </thead>\n",
       "  <tbody>\n",
       "    <tr>\n",
       "      <th>0</th>\n",
       "      <td>0</td>\n",
       "      <td>1</td>\n",
       "      <td>2</td>\n",
       "      <td>1</td>\n",
       "      <td>1</td>\n",
       "      <td>0</td>\n",
       "      <td>0</td>\n",
       "      <td>1</td>\n",
       "      <td>1</td>\n",
       "      <td>1</td>\n",
       "      <td>1</td>\n",
       "    </tr>\n",
       "    <tr>\n",
       "      <th>1</th>\n",
       "      <td>0</td>\n",
       "      <td>1</td>\n",
       "      <td>0</td>\n",
       "      <td>1</td>\n",
       "      <td>1</td>\n",
       "      <td>0</td>\n",
       "      <td>0</td>\n",
       "      <td>2</td>\n",
       "      <td>1</td>\n",
       "      <td>2</td>\n",
       "      <td>1</td>\n",
       "    </tr>\n",
       "    <tr>\n",
       "      <th>2</th>\n",
       "      <td>0</td>\n",
       "      <td>2</td>\n",
       "      <td>1</td>\n",
       "      <td>1</td>\n",
       "      <td>2</td>\n",
       "      <td>0</td>\n",
       "      <td>0</td>\n",
       "      <td>1</td>\n",
       "      <td>4</td>\n",
       "      <td>0</td>\n",
       "      <td>1</td>\n",
       "    </tr>\n",
       "    <tr>\n",
       "      <th>3</th>\n",
       "      <td>0</td>\n",
       "      <td>2</td>\n",
       "      <td>1</td>\n",
       "      <td>1</td>\n",
       "      <td>1</td>\n",
       "      <td>0</td>\n",
       "      <td>0</td>\n",
       "      <td>2</td>\n",
       "      <td>2</td>\n",
       "      <td>0</td>\n",
       "      <td>1</td>\n",
       "    </tr>\n",
       "    <tr>\n",
       "      <th>4</th>\n",
       "      <td>1</td>\n",
       "      <td>1</td>\n",
       "      <td>1</td>\n",
       "      <td>0</td>\n",
       "      <td>1</td>\n",
       "      <td>0</td>\n",
       "      <td>1</td>\n",
       "      <td>1</td>\n",
       "      <td>0</td>\n",
       "      <td>1</td>\n",
       "      <td>0</td>\n",
       "    </tr>\n",
       "  </tbody>\n",
       "</table>\n",
       "</div>"
      ],
      "text/plain": [
       "   usSex  usAgeRange  usRegion  foreignSex  foreignAgeRange  olderSex  \\\n",
       "0      0           1         2           1                1         0   \n",
       "1      0           1         0           1                1         0   \n",
       "2      0           2         1           1                2         0   \n",
       "3      0           2         1           1                1         0   \n",
       "4      1           1         1           0                1         0   \n",
       "\n",
       "   olderNat  ageDiffRange  continent  met  stayTogether  \n",
       "0         0             1          1    1             1  \n",
       "1         0             2          1    2             1  \n",
       "2         0             1          4    0             1  \n",
       "3         0             2          2    0             1  \n",
       "4         1             1          0    1             0  "
      ]
     },
     "execution_count": 115,
     "metadata": {},
     "output_type": "execute_result"
    }
   ],
   "source": [
    "fiances.head()"
   ]
  },
  {
   "cell_type": "code",
   "execution_count": 116,
   "id": "9afa4f34",
   "metadata": {},
   "outputs": [
    {
     "data": {
      "text/plain": [
       "(58, 11)"
      ]
     },
     "execution_count": 116,
     "metadata": {},
     "output_type": "execute_result"
    }
   ],
   "source": [
    "fiances.shape"
   ]
  },
  {
   "cell_type": "code",
   "execution_count": 30,
   "id": "7e2fe2fa",
   "metadata": {},
   "outputs": [
    {
     "data": {
      "text/plain": [
       "Index(['move', 'usSex', 'usAgeRange', 'usRegion', 'usDivision', 'foreignSex',\n",
       "       'foreignAgeRange', 'olderSex', 'olderNat', 'ageDiffRange', 'continent',\n",
       "       'met', 'stayTogether'],\n",
       "      dtype='object')"
      ]
     },
     "execution_count": 30,
     "metadata": {},
     "output_type": "execute_result"
    }
   ],
   "source": [
    "fiances.columns"
   ]
  },
  {
   "cell_type": "markdown",
   "id": "d4f15675",
   "metadata": {},
   "source": [
    "### prepare data for training"
   ]
  },
  {
   "cell_type": "code",
   "execution_count": 125,
   "id": "fc1a697d",
   "metadata": {},
   "outputs": [],
   "source": [
    "feature_names = ['usSex', 'usAgeRange', 'usRegion', 'foreignAgeRange', 'olderSex', 'olderNat', \n",
    "                 'ageDiffRange', 'continent', 'met', ]"
   ]
  },
  {
   "cell_type": "code",
   "execution_count": 126,
   "id": "48b539ed",
   "metadata": {},
   "outputs": [],
   "source": [
    "# divide data: features\n",
    "X = fiances[feature_names]\n",
    "\n",
    "# divide data: labels\n",
    "y = fiances['stayTogether']"
   ]
  },
  {
   "cell_type": "code",
   "execution_count": 127,
   "id": "68f9f17d",
   "metadata": {},
   "outputs": [],
   "source": [
    "# divides data into training and testing sets: 70% training, 30% test\n",
    "\n",
    "X_train, X_test, y_train, y_test = train_test_split(X, y, test_size=0.3, random_state=0)"
   ]
  },
  {
   "cell_type": "markdown",
   "id": "3567ef43",
   "metadata": {},
   "source": [
    "### train the model"
   ]
  },
  {
   "cell_type": "code",
   "execution_count": 128,
   "id": "cfd16122",
   "metadata": {},
   "outputs": [],
   "source": [
    "# create a gaussian classifier\n",
    "\n",
    "clf = RandomForestClassifier(n_estimators = 100)"
   ]
  },
  {
   "cell_type": "code",
   "execution_count": 129,
   "id": "9c4501e6",
   "metadata": {},
   "outputs": [],
   "source": [
    "# train model using the training sets y_pred=clf.predict(X_test)\n",
    "\n",
    "clf.fit(X_train, y_train)\n",
    "y_pred = clf.predict(X_test)"
   ]
  },
  {
   "cell_type": "markdown",
   "id": "18b70ee3",
   "metadata": {},
   "source": [
    "### check accuracy using actual and predicted values"
   ]
  },
  {
   "cell_type": "code",
   "execution_count": 130,
   "id": "9553d528",
   "metadata": {},
   "outputs": [
    {
     "name": "stdout",
     "output_type": "stream",
     "text": [
      "Accuracy: 0.6666666666666666\n"
     ]
    }
   ],
   "source": [
    "print(\"Accuracy:\",metrics.accuracy_score(y_test, y_pred))"
   ]
  },
  {
   "cell_type": "markdown",
   "id": "5b8c72f0",
   "metadata": {},
   "source": [
    "### finding important features in Scikit-learn\n",
    "\n",
    "1) create a random forests model\n",
    "\n",
    "2) use the feature importance variable to see feature importance scores\n",
    "\n",
    "3) visualize these scores using the seaborn library"
   ]
  },
  {
   "cell_type": "code",
   "execution_count": 131,
   "id": "ef5cbe39",
   "metadata": {},
   "outputs": [
    {
     "data": {
      "text/plain": [
       "RandomForestClassifier(n_jobs=1)"
      ]
     },
     "execution_count": 131,
     "metadata": {},
     "output_type": "execute_result"
    }
   ],
   "source": [
    "RandomForestClassifier(bootstrap=True, class_weight=None, criterion='gini',max_depth=None, max_features='auto', \n",
    "                       max_leaf_nodes=None, min_impurity_decrease=0.0, min_samples_leaf=1, min_samples_split=2, \n",
    "                       min_weight_fraction_leaf=0.0, n_estimators=100, n_jobs=1, oob_score=False, \n",
    "                       random_state=None, verbose=0, warm_start=False)"
   ]
  },
  {
   "cell_type": "code",
   "execution_count": 141,
   "id": "23bc72d1",
   "metadata": {
    "scrolled": false
   },
   "outputs": [
    {
     "data": {
      "text/plain": [
       "ageDiffRange       0.220717\n",
       "met                0.146317\n",
       "continent          0.137405\n",
       "usAgeRange         0.122185\n",
       "foreignAgeRange    0.107901\n",
       "usRegion           0.103233\n",
       "usSex              0.064991\n",
       "olderSex           0.050858\n",
       "olderNat           0.046393\n",
       "dtype: float64"
      ]
     },
     "execution_count": 141,
     "metadata": {},
     "output_type": "execute_result"
    }
   ],
   "source": [
    "feature_imp = pd.Series(clf.feature_importances_,index=feature_names).sort_values(ascending=False)\n",
    "feature_imp"
   ]
  },
  {
   "cell_type": "code",
   "execution_count": 142,
   "id": "5cfd83cc",
   "metadata": {},
   "outputs": [
    {
     "data": {
      "image/png": "[encoded data removed]",
      "text/plain": [
       "<Figure size 432x288 with 1 Axes>"
      ]
     },
     "metadata": {
      "needs_background": "light"
     },
     "output_type": "display_data"
    }
   ],
   "source": [
    "#  bar plot\n",
    "sns.barplot(x=feature_imp, y=feature_imp.index)\n",
    "\n",
    "# addlabels \n",
    "plt.xlabel('Feature Importance Score')\n",
    "plt.ylabel('Features')\n",
    "plt.title(\"Visualizing Important Features\")\n",
    "plt.show()"
   ]
  },
  {
   "cell_type": "code",
   "execution_count": null,
   "id": "d1acddec",
   "metadata": {},
   "outputs": [],
   "source": []
  }
 ],
 "metadata": {
  "kernelspec": {
   "display_name": "geo_env",
   "language": "python",
   "name": "geo_env"
  },
  "language_info": {
   "codemirror_mode": {
    "name": "ipython",
    "version": 3
   },
   "file_extension": ".py",
   "mimetype": "text/x-python",
   "name": "python",
   "nbconvert_exporter": "python",
   "pygments_lexer": "ipython3",
   "version": "3.10.2"
  }
 },
 "nbformat": 4,
 "nbformat_minor": 5
}
